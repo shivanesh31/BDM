{
  "nbformat": 4,
  "nbformat_minor": 0,
  "metadata": {
    "colab": {
      "provenance": [],
      "authorship_tag": "ABX9TyPyHBE0E9tCHGdZ8YcMi1RG",
      "include_colab_link": true
    },
    "kernelspec": {
      "name": "python3",
      "display_name": "Python 3"
    },
    "language_info": {
      "name": "python"
    }
  },
  "cells": [
    {
      "cell_type": "markdown",
      "metadata": {
        "id": "view-in-github",
        "colab_type": "text"
      },
      "source": [
        "<a href=\"https://colab.research.google.com/github/shivanesh31/BDM/blob/main/exercise/shivanesh31/HelloWorld.ipynb\" target=\"_parent\"><img src=\"https://colab.research.google.com/assets/colab-badge.svg\" alt=\"Open In Colab\"/></a>"
      ]
    },
    {
      "cell_type": "markdown",
      "source": [],
      "metadata": {
        "id": "EMPGp-PjQXqx"
      }
    },
    {
      "cell_type": "markdown",
      "source": [
        "# Hello World\n",
        "## Hello WOrld"
      ],
      "metadata": {
        "id": "Psbyk9FxRuYO"
      }
    },
    {
      "cell_type": "markdown",
      "source": [
        "# My Info\n",
        "# Hello I'm Shivanesh\n",
        "## I am a Data Scientist. I work at Emirates\n"
      ],
      "metadata": {
        "id": "G87Sqk_xQYPb"
      }
    },
    {
      "cell_type": "code",
      "source": [
        "import pandas as pd\n",
        "import matplotlib as plt"
      ],
      "metadata": {
        "id": "E1HKsdx8Q0UR"
      },
      "execution_count": 4,
      "outputs": []
    }
  ]
}